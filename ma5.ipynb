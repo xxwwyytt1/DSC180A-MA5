{
 "cells": [
  {
   "cell_type": "code",
   "execution_count": 41,
   "id": "bc9642f2",
   "metadata": {},
   "outputs": [],
   "source": [
    "import pandas as pd\n",
    "import numpy as np\n",
    "import os\n",
    "from sklearn.linear_model import LogisticRegression\n",
    "from sklearn.preprocessing import LabelEncoder, StandardScaler\n",
    "from sklearn.pipeline import Pipeline\n",
    "from sklearn.metrics import accuracy_score"
   ]
  },
  {
   "cell_type": "code",
   "execution_count": 58,
   "id": "a31036d6",
   "metadata": {},
   "outputs": [],
   "source": [
    "all_activity_data = ['data/patient_1/patient_1_activity.csv', 'data/patient_2/patient_2_activity.csv',\n",
    "                    'data/patient_3/patient_3_activity.csv']\n",
    "test_data = 'data/test/testdata/test_data.csv'"
   ]
  },
  {
   "cell_type": "code",
   "execution_count": 51,
   "id": "e41c1805",
   "metadata": {},
   "outputs": [],
   "source": [
    "li = []\n",
    "for filename in all_activity_data:\n",
    "    df = pd.read_csv(filename, index_col=None, header=0)\n",
    "    li.append(df)\n",
    "\n",
    "data = pd.concat(li, axis=0, ignore_index=True)\n",
    "data = data\\\n",
    "[['summary_date',\n",
    "  'score_stay_active',\n",
    "  'score_move_every_hour',\n",
    "  'score_meet_daily_targets',\n",
    "  'score_training_frequency',\n",
    "  'score_training_volume',\n",
    "  'score_recovery_time']]"
   ]
  },
  {
   "cell_type": "code",
   "execution_count": 52,
   "id": "8b88c4a6",
   "metadata": {},
   "outputs": [],
   "source": [
    "def get_weekday_end(weekday):\n",
    "    if weekday in [5,6,7]:\n",
    "        return 'weekend'\n",
    "    else:\n",
    "        return 'weekday'\n",
    "    \n",
    "data['weekday'] = pd.to_datetime(data['summary_date']).apply(lambda x: get_weekday_end(x.weekday()))\n",
    "\n"
   ]
  },
  {
   "cell_type": "code",
   "execution_count": 53,
   "id": "7f4e1ca5",
   "metadata": {},
   "outputs": [
    {
     "data": {
      "text/html": [
       "<div>\n",
       "<style scoped>\n",
       "    .dataframe tbody tr th:only-of-type {\n",
       "        vertical-align: middle;\n",
       "    }\n",
       "\n",
       "    .dataframe tbody tr th {\n",
       "        vertical-align: top;\n",
       "    }\n",
       "\n",
       "    .dataframe thead th {\n",
       "        text-align: right;\n",
       "    }\n",
       "</style>\n",
       "<table border=\"1\" class=\"dataframe\">\n",
       "  <thead>\n",
       "    <tr style=\"text-align: right;\">\n",
       "      <th></th>\n",
       "      <th>summary_date</th>\n",
       "      <th>score_stay_active</th>\n",
       "      <th>score_move_every_hour</th>\n",
       "      <th>score_meet_daily_targets</th>\n",
       "      <th>score_training_frequency</th>\n",
       "      <th>score_training_volume</th>\n",
       "      <th>score_recovery_time</th>\n",
       "      <th>weekday</th>\n",
       "    </tr>\n",
       "  </thead>\n",
       "  <tbody>\n",
       "    <tr>\n",
       "      <th>0</th>\n",
       "      <td>2019-02-06</td>\n",
       "      <td>100.0</td>\n",
       "      <td>100.0</td>\n",
       "      <td>95.0</td>\n",
       "      <td>100.0</td>\n",
       "      <td>100.0</td>\n",
       "      <td>98.0</td>\n",
       "      <td>weekday</td>\n",
       "    </tr>\n",
       "    <tr>\n",
       "      <th>1</th>\n",
       "      <td>2019-02-07</td>\n",
       "      <td>70.0</td>\n",
       "      <td>100.0</td>\n",
       "      <td>100.0</td>\n",
       "      <td>100.0</td>\n",
       "      <td>100.0</td>\n",
       "      <td>89.0</td>\n",
       "      <td>weekday</td>\n",
       "    </tr>\n",
       "    <tr>\n",
       "      <th>2</th>\n",
       "      <td>2019-02-08</td>\n",
       "      <td>88.0</td>\n",
       "      <td>100.0</td>\n",
       "      <td>100.0</td>\n",
       "      <td>100.0</td>\n",
       "      <td>99.0</td>\n",
       "      <td>100.0</td>\n",
       "      <td>weekday</td>\n",
       "    </tr>\n",
       "    <tr>\n",
       "      <th>3</th>\n",
       "      <td>2019-02-09</td>\n",
       "      <td>84.0</td>\n",
       "      <td>100.0</td>\n",
       "      <td>100.0</td>\n",
       "      <td>100.0</td>\n",
       "      <td>99.0</td>\n",
       "      <td>100.0</td>\n",
       "      <td>weekend</td>\n",
       "    </tr>\n",
       "    <tr>\n",
       "      <th>4</th>\n",
       "      <td>2019-02-10</td>\n",
       "      <td>87.0</td>\n",
       "      <td>100.0</td>\n",
       "      <td>100.0</td>\n",
       "      <td>100.0</td>\n",
       "      <td>98.0</td>\n",
       "      <td>98.0</td>\n",
       "      <td>weekend</td>\n",
       "    </tr>\n",
       "    <tr>\n",
       "      <th>...</th>\n",
       "      <td>...</td>\n",
       "      <td>...</td>\n",
       "      <td>...</td>\n",
       "      <td>...</td>\n",
       "      <td>...</td>\n",
       "      <td>...</td>\n",
       "      <td>...</td>\n",
       "      <td>...</td>\n",
       "    </tr>\n",
       "    <tr>\n",
       "      <th>2789</th>\n",
       "      <td>2022-10-31</td>\n",
       "      <td>48.0</td>\n",
       "      <td>78.0</td>\n",
       "      <td>60.0</td>\n",
       "      <td>100.0</td>\n",
       "      <td>97.0</td>\n",
       "      <td>98.0</td>\n",
       "      <td>weekday</td>\n",
       "    </tr>\n",
       "    <tr>\n",
       "      <th>2790</th>\n",
       "      <td>2022-11-01</td>\n",
       "      <td>72.0</td>\n",
       "      <td>100.0</td>\n",
       "      <td>43.0</td>\n",
       "      <td>100.0</td>\n",
       "      <td>96.0</td>\n",
       "      <td>100.0</td>\n",
       "      <td>weekday</td>\n",
       "    </tr>\n",
       "    <tr>\n",
       "      <th>2791</th>\n",
       "      <td>2022-11-02</td>\n",
       "      <td>78.0</td>\n",
       "      <td>95.0</td>\n",
       "      <td>43.0</td>\n",
       "      <td>100.0</td>\n",
       "      <td>96.0</td>\n",
       "      <td>100.0</td>\n",
       "      <td>weekday</td>\n",
       "    </tr>\n",
       "    <tr>\n",
       "      <th>2792</th>\n",
       "      <td>2022-11-03</td>\n",
       "      <td>73.0</td>\n",
       "      <td>100.0</td>\n",
       "      <td>25.0</td>\n",
       "      <td>100.0</td>\n",
       "      <td>96.0</td>\n",
       "      <td>100.0</td>\n",
       "      <td>weekday</td>\n",
       "    </tr>\n",
       "    <tr>\n",
       "      <th>2793</th>\n",
       "      <td>2022-11-04</td>\n",
       "      <td>78.0</td>\n",
       "      <td>100.0</td>\n",
       "      <td>25.0</td>\n",
       "      <td>96.0</td>\n",
       "      <td>79.0</td>\n",
       "      <td>100.0</td>\n",
       "      <td>weekday</td>\n",
       "    </tr>\n",
       "  </tbody>\n",
       "</table>\n",
       "<p>2794 rows × 8 columns</p>\n",
       "</div>"
      ],
      "text/plain": [
       "     summary_date  score_stay_active  score_move_every_hour  \\\n",
       "0      2019-02-06              100.0                  100.0   \n",
       "1      2019-02-07               70.0                  100.0   \n",
       "2      2019-02-08               88.0                  100.0   \n",
       "3      2019-02-09               84.0                  100.0   \n",
       "4      2019-02-10               87.0                  100.0   \n",
       "...           ...                ...                    ...   \n",
       "2789   2022-10-31               48.0                   78.0   \n",
       "2790   2022-11-01               72.0                  100.0   \n",
       "2791   2022-11-02               78.0                   95.0   \n",
       "2792   2022-11-03               73.0                  100.0   \n",
       "2793   2022-11-04               78.0                  100.0   \n",
       "\n",
       "      score_meet_daily_targets  score_training_frequency  \\\n",
       "0                         95.0                     100.0   \n",
       "1                        100.0                     100.0   \n",
       "2                        100.0                     100.0   \n",
       "3                        100.0                     100.0   \n",
       "4                        100.0                     100.0   \n",
       "...                        ...                       ...   \n",
       "2789                      60.0                     100.0   \n",
       "2790                      43.0                     100.0   \n",
       "2791                      43.0                     100.0   \n",
       "2792                      25.0                     100.0   \n",
       "2793                      25.0                      96.0   \n",
       "\n",
       "      score_training_volume  score_recovery_time  weekday  \n",
       "0                     100.0                 98.0  weekday  \n",
       "1                     100.0                 89.0  weekday  \n",
       "2                      99.0                100.0  weekday  \n",
       "3                      99.0                100.0  weekend  \n",
       "4                      98.0                 98.0  weekend  \n",
       "...                     ...                  ...      ...  \n",
       "2789                   97.0                 98.0  weekday  \n",
       "2790                   96.0                100.0  weekday  \n",
       "2791                   96.0                100.0  weekday  \n",
       "2792                   96.0                100.0  weekday  \n",
       "2793                   79.0                100.0  weekday  \n",
       "\n",
       "[2794 rows x 8 columns]"
      ]
     },
     "execution_count": 53,
     "metadata": {},
     "output_type": "execute_result"
    }
   ],
   "source": [
    "data"
   ]
  },
  {
   "cell_type": "code",
   "execution_count": 54,
   "id": "2bef2317",
   "metadata": {},
   "outputs": [
    {
     "data": {
      "text/plain": [
       "[('normalizer', StandardScaler()), ('clf', LogisticRegression())]"
      ]
     },
     "execution_count": 54,
     "metadata": {},
     "output_type": "execute_result"
    }
   ],
   "source": [
    "data['weekday'] = LabelEncoder().fit_transform(data['weekday'])\n",
    "\n",
    "pipeline = Pipeline([\n",
    "    ('normalizer', StandardScaler()), #Step1 - normalize data\n",
    "    ('clf', LogisticRegression()) #step2 - classifier\n",
    "])\n",
    "pipeline.steps"
   ]
  },
  {
   "cell_type": "code",
   "execution_count": 55,
   "id": "01395253",
   "metadata": {},
   "outputs": [],
   "source": [
    "X_train, y_train = data.iloc[:,1:-1].values, data['weekday']"
   ]
  },
  {
   "cell_type": "code",
   "execution_count": 56,
   "id": "60016b35",
   "metadata": {},
   "outputs": [
    {
     "data": {
      "text/plain": [
       "array([[100., 100.,  95., 100., 100.,  98.],\n",
       "       [ 70., 100., 100., 100., 100.,  89.],\n",
       "       [ 88., 100., 100., 100.,  99., 100.],\n",
       "       ...,\n",
       "       [ 78.,  95.,  43., 100.,  96., 100.],\n",
       "       [ 73., 100.,  25., 100.,  96., 100.],\n",
       "       [ 78., 100.,  25.,  96.,  79., 100.]])"
      ]
     },
     "execution_count": 56,
     "metadata": {},
     "output_type": "execute_result"
    }
   ],
   "source": [
    "X_train"
   ]
  },
  {
   "cell_type": "code",
   "execution_count": null,
   "id": "7661b438",
   "metadata": {},
   "outputs": [],
   "source": [
    "pipeline.fit(X_train, y_train)"
   ]
  },
  {
   "cell_type": "code",
   "execution_count": null,
   "id": "51ee5309",
   "metadata": {},
   "outputs": [],
   "source": []
  },
  {
   "cell_type": "code",
   "execution_count": null,
   "id": "12283d10",
   "metadata": {},
   "outputs": [],
   "source": []
  },
  {
   "cell_type": "code",
   "execution_count": null,
   "id": "f00e19d9",
   "metadata": {},
   "outputs": [],
   "source": []
  }
 ],
 "metadata": {
  "kernelspec": {
   "display_name": "Python 3 (ipykernel)",
   "language": "python",
   "name": "python3"
  },
  "language_info": {
   "codemirror_mode": {
    "name": "ipython",
    "version": 3
   },
   "file_extension": ".py",
   "mimetype": "text/x-python",
   "name": "python",
   "nbconvert_exporter": "python",
   "pygments_lexer": "ipython3",
   "version": "3.9.12"
  }
 },
 "nbformat": 4,
 "nbformat_minor": 5
}
